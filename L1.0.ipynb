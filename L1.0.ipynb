{
 "cells": [
  {
   "cell_type": "markdown",
   "metadata": {},
   "source": [
    "*JSC270, Winter 2020 - Prof. Chevalier*\n",
    "\n",
    "# <center>  Laboratory 1.0 - \"Hello JSC270\" </center>\n",
    "## <center> Pre-lab assignment </center>\n",
    "\n",
    "### <center> Due date: January 8, 2020  at 12:00pm (noon) </center>\n",
    "<center> This assignment is individual.</center>\n",
    "\n",
    "***\n",
    "\n",
    "\n",
    "We will be using [Jupyter Notebook](https://jupyter.org/) together with [Github](https://github.com/) throughout the course.\n",
    "\n",
    "For this pre-lab assignment, you are required 1) to enter your answers directly in this notebook using Python and Markdown, 2) submit your work by making a commit of your files on Github Classroom, and uploading a pdf of your notebook on Quercus. The following instructions walk you through the whole process, from setting up your workspace to submitting your work.\n",
    "\n",
    "<br>\n",
    "\n",
    "***\n",
    "<div style=\"background-color: #f7f7f7; padding:10px;\">\n",
    "\n",
    "<h3>  Objectives </h3>\n",
    "\n",
    "Set up your workspace; familiarize yourself with jupyter notebook; perform some initial exploration of data before the lab; formulate research questions.\n",
    "\n",
    "<h3> Instructions </h3>\n",
    "\n",
    "<ul>\n",
    "    <li> Make a copy of this notebook (see details below).</li>\n",
    "    <li> Answer the questions in the cells that indicate where your answers should be placed. You may remove the initial comment in the code cell.  For example, for Question III.1, edit the content of the markdown cell with comment `Enter your answers in this cell. You may remove this text`. </li>\n",
    "    <li> Make sure that you explain your solutions when asked and comment your code for readability. </li>\n",
    "    <li> Commit and push changes to the Github classroom repository that has been provided (more details below).</li>\n",
    "    <li> Submit a pdf report to Quercus (more details below).</li>\n",
    "\n",
    "</div>\n",
    "\n",
    "***\n",
    "\n",
    "<br> \n",
    "\n",
    "## I. Set up your workspace\n",
    "\n",
    "\n",
    "1. If you don't already have one, create an account on [Github](https://github.com/)\n",
    "2. Follow the instructions in this [git basics walkthrough](https://jsc270.github.io/docs/jsc270-git-basics.pdf):\n",
    "    * Make a copy of this notebook to your github account using this Github Classroom link: [https://classroom.github.com/a/Wwxq8088](https://classroom.github.com/a/Wwxq8088). \n",
    "    * Launch jupyter using the following command line from your terminal. This should automatically open a jupyter navigator in your web browser:\n",
    "```\n",
    "       jupyter notebook\n",
    "```\n",
    "    * Open the notebook (```.ipynb``` file) in your browser. You will be able to edit the notebook directly from your browser."
   ]
  },
  {
   "cell_type": "markdown",
   "metadata": {},
   "source": [
    "***\n",
    "\n",
    "## II. Quick overview of a Jupyter notebook"
   ]
  },
  {
   "cell_type": "code",
   "execution_count": 1,
   "metadata": {},
   "outputs": [
    {
     "name": "stdout",
     "output_type": "stream",
     "text": [
      "J\n",
      "S\n",
      "C\n",
      "2\n",
      "7\n",
      "0\n"
     ]
    }
   ],
   "source": [
    "# this is a python cell\n",
    "\n",
    "for x in \"JSC270\":\n",
    "    print(x)"
   ]
  },
  {
   "cell_type": "markdown",
   "metadata": {},
   "source": [
    "This is an example of a markdown cell.  Double-click on the cell to see the [markdown](https://jupyter-notebook.readthedocs.io/en/stable/examples/Notebook/Working%20With%20Markdown%20Cells.html).\n",
    "\n",
    "# Header 1\n",
    "## Header 2\n",
    "\n",
    "Some in line $\\LaTeX$:  $\\alpha = 0.05, \\beta = 0.2 \\Rightarrow \\alpha+\\beta=0.25.$  If $\\LaTeX$  is enclosed between `$$` \\int_{-\\infty}^{\\infty} \\exp({-x^2/2})dx = \\sqrt{2 \\pi} `$$` then it's displayed on it's own line.\n",
    "\n",
    "$$ \\int_{-\\infty}^{\\infty} \\exp({-x^2/2})dx = \\sqrt{2 \\pi}$$\n",
    "\n",
    "Some **text in bold**.\n",
    "> some text indented\n",
    "\n",
    "Markdown cells can [display HTML](https://daringfireball.net/projects/markdown/syntax#html).\n",
    "\n",
    "```\n",
    "<h3> Header 3 </h3>\n",
    "<p> This is a paragraph using HTML. <br>\n",
    "    <mark> This is important so it's marked in yellow. </mark>  </p>\n",
    "```\n",
    "\n",
    "<h3> Header 3 </h3>\n",
    "<p> This is a paragraph using HTML. <br>\n",
    "    <mark> This is important so it's marked in yellow. </mark>  </p>\n",
    "\n",
    "Images can be displayed using markdown or html. \n",
    "\n",
    "To display a picture of the Toronto skyline (Photo by [Berkay Gumustekin](https://unsplash.com/@berkaygumustekin?utm_source=unsplash&utm_medium=referral&utm_content=creditCopyText) on [Unsplash](https://unsplash.com/s/photos/toronto?utm_source=unsplash&utm_medium=referral&utm_content=creditCopyText)):\n",
    "\n",
    "```\n",
    "![](toronto.jpg)\n",
    "```\n",
    "NB: [Markdown has no syntax for specifying the dimensions of an image; if this is important to you, you can simply use regular HTML `<img`> tags.](https://daringfireball.net/projects/markdown/syntax#img)\n",
    "\n",
    "or HTML code:\n",
    "\n",
    "```\n",
    "<img src='toronto.jpg' style=\"width:400px; height:400px;\">\n",
    "```\n",
    "\n",
    "<img src='toronto.jpg' style=\"width:400px; height:400px;\">\n",
    "\n"
   ]
  },
  {
   "cell_type": "markdown",
   "metadata": {},
   "source": [
    "<br/> <br/>\n",
    "\n",
    "***\n",
    "\n",
    "##  III. A little bit about yourself...  \n",
    "\n",
    "\n",
    "Answer the following questions by entering your answers in the corresponding cells.\n",
    "\n",
    "**Question 1:** Fill out the information below."
   ]
  },
  {
   "cell_type": "markdown",
   "metadata": {},
   "source": [
    "*Enter your answers in this cell. You may remove this text*\n",
    "\n",
    "* First (official) name:  \n",
    "* Last name:       \n",
    "* Preferred name:\n",
    "* Student number:\n",
    "* UTORID:\n",
    "* Github ID: \n",
    "* Portrait photo: <*insert here a headshot where you are clearly recognizable*\\>"
   ]
  },
  {
   "cell_type": "markdown",
   "metadata": {},
   "source": [
    "**Question 2:** Explain, in a few sentences, what you expect from this course."
   ]
  },
  {
   "cell_type": "markdown",
   "metadata": {},
   "source": [
    "*Enter your answer in this cell. You may remove this text*"
   ]
  },
  {
   "cell_type": "markdown",
   "metadata": {},
   "source": [
    "**Question 3:** A professional data scientist is expected to be strong in the following skills. You are just starting to learn this discipline, and so it is perfectly normal that you are not yet a master at all (or rather any!) of these skills. Take a moment to think about your goals for the term. What are the skills that you feel you need most development in? Indicate with a \"X\" mark in the table, your level in each skill using the following rates: \n",
    "1. *Not my strength. I need to practice this skill.*\n",
    "2. *I am generally ok, but want to develop this skill further.*\n",
    "3. *I am quite good at this skill, and plan to keep it up.*\n",
    "4. *I am a master, and can help others further develop this skill.*\n"
   ]
  },
  {
   "cell_type": "markdown",
   "metadata": {},
   "source": [
    "*Add a \"X\" mark in the corresponding column, for each row in this cell. You may remove this text*\n",
    "\n",
    "| Skill                       | Level 1 | Level 2 | Level 3 | Level 4 |\n",
    "|------                       |------   |------   |------   |------   |\n",
    "| Programming (python / R)    |         |         |         |         |\n",
    "| Statistical analysis        |         |         |         |         |\n",
    "| Writing (technical reports) |         |         |         |         |\n",
    "| Data Visualization          |         |         |         |         |\n",
    "| Public speaking             |         |         |         |         |\n",
    "| Team work                   |         |         |         |         |"
   ]
  },
  {
   "cell_type": "markdown",
   "metadata": {},
   "source": [
    "<br/> <br/>\n",
    "\n",
    "***\n",
    "\n",
    "##  IV. Pre-Lab Exercice: Toronto Bike Share \n",
    "\n",
    "We will study the [Toronto Bike Share](https://open.toronto.ca/dataset/bike-share-toronto-ridership-data/) data in this first laboratory. These questions will get you started with some Python basics and data manipulations.\n",
    "\n",
    "\n",
    "![](bikeshare1.png)\n",
    "\n",
    "<br>\n",
    "\n",
    "Download the 2017 data set from the [Toronto Bike Share](https://open.toronto.ca/dataset/bike-share-toronto-ridership-data/) website. The data is stored in a [comma-separated value (csv) file](https://en.wikipedia.org/wiki/Comma-separated_values), one for each quarter of the year. \n",
    "\n",
    "Here is an example of a basic .csv file:"
   ]
  },
  {
   "cell_type": "code",
   "execution_count": null,
   "metadata": {},
   "outputs": [
    {
     "name": "stdout",
     "output_type": "stream",
     "text": [
      "\u001b7\u001b[?47h\u001b[?1h\u001b=\r",
      "1/2/2014,5,8,red\r\n",
      "1/3/2014,5,2,green\r\n",
      "1/4/2014,9,1,blue\r\n",
      "\u001b[7mdata.csv (END)\u001b[m\u001b[K"
     ]
    }
   ],
   "source": [
    "!less data.csv        ## Note: Any command-line can be used in a notebook by prefixing it with the \"!\""
   ]
  },
  {
   "cell_type": "markdown",
   "metadata": {},
   "source": [
    "There are several options to choose from to load data from a csv file into a Python data structure. We list two common approaches here:\n",
    "\n",
    "*Option 1:* Use the python csv library.  \n",
    "See the documentation on how to read and write csv files using this library [here](https://docs.python.org/3/library/csv.html). A starter code is provided below. "
   ]
  },
  {
   "cell_type": "code",
   "execution_count": 3,
   "metadata": {},
   "outputs": [
    {
     "name": "stdout",
     "output_type": "stream",
     "text": [
      "1/2/2014 red\n",
      "1/3/2014 green\n",
      "1/4/2014 blue\n"
     ]
    }
   ],
   "source": [
    "import csv\n",
    "with open('data.csv', 'r') as csvfile:\n",
    "     datareader = csv.reader(csvfile, delimiter=',')\n",
    "     for row in datareader:\n",
    "         print(row[0], row[3]) #or row[-1] for the last index"
   ]
  },
  {
   "cell_type": "markdown",
   "metadata": {},
   "source": [
    "In the above example, we read data from the `data.csv` file using the python csv library, and display the first and last indexes of each row.\n",
    "\n",
    "*Option 2:* Another option (recommended for this lab, and beyond) is to use the built-in csv reader of pandas (see [pandas documentation](https://pandas.pydata.org/) and [pandas cheat sheet](https://jsc270.github.io/docs/Pandas_Cheat_Sheet.pdf)).\n",
    "\n",
    "<br>\n",
    "\n",
    "**Question 1.** Read the ``Bikeshare Ridership (2017 Q1).csv``. Display the name of all of the columns."
   ]
  },
  {
   "cell_type": "code",
   "execution_count": null,
   "metadata": {},
   "outputs": [],
   "source": [
    "## Put your code here"
   ]
  },
  {
   "cell_type": "markdown",
   "metadata": {},
   "source": [
    "**Question 2.** Display the number of rows in the dataset."
   ]
  },
  {
   "cell_type": "code",
   "execution_count": null,
   "metadata": {},
   "outputs": [],
   "source": [
    "## Put your code here"
   ]
  },
  {
   "cell_type": "markdown",
   "metadata": {},
   "source": [
    "**Question 3.** Display the first few row of the dataset."
   ]
  },
  {
   "cell_type": "code",
   "execution_count": null,
   "metadata": {},
   "outputs": [],
   "source": [
    "## Put your code here"
   ]
  },
  {
   "cell_type": "markdown",
   "metadata": {},
   "source": [
    "**Question 4.** Display all of the rows where the travel time less than two minutes."
   ]
  },
  {
   "cell_type": "code",
   "execution_count": null,
   "metadata": {},
   "outputs": [],
   "source": [
    "## Put your code here"
   ]
  },
  {
   "cell_type": "markdown",
   "metadata": {},
   "source": [
    "**Question 5.** Calculate and display the min, max and average trip duration values for this quarter."
   ]
  },
  {
   "cell_type": "code",
   "execution_count": null,
   "metadata": {},
   "outputs": [],
   "source": [
    "## Put your code here"
   ]
  },
  {
   "cell_type": "markdown",
   "metadata": {},
   "source": [
    "**Question 6.** Formulate three research questions that would be interesting to investigate about Toronto Bike Share usage. Explain why each question is an interesting one to explore."
   ]
  },
  {
   "cell_type": "markdown",
   "metadata": {},
   "source": [
    "*Write your answer in this cell. You may remove this text.*"
   ]
  },
  {
   "cell_type": "markdown",
   "metadata": {},
   "source": [
    " <br/> <br/>\n",
    " \n",
    " # <p style=\"background-color: #EEEEEE;text-align:center;padding-top: 15px;padding-bottom: 15px;\" >Submission and Grading </p>\n",
    " \n",
    " ## Submission \n",
    " \n",
    " Complete all of the following tasks to submit your work. \n",
    "\n",
    "### Github Classroom\n",
    "\n",
    "1. Use ```nbconvert``` to save this Jupyter notebook as an html document without code cells. The command line syntax is:\n",
    "\n",
    "```\n",
    "    jupyter nbconvert --TemplateExporter.exclude_input=True myfirstnb.ipynb\n",
    "```\n",
    "\n",
    "2. Commit your work to the Github repository using the ```git``` commands as follows. See also the [git basics](jsc270-git-basics.pdf)\n",
    "\n",
    "```\n",
    "    git add [all files that you want to update/add to the repository]\n",
    "    git commit -m \"[a meaningful comment about your commit, e.g. final submission]\"\n",
    "    git push\n",
    "```\n",
    "\n",
    "**Important note**: Commit and push both of your .ipyn and .html files to your repository, as well as all of the files (e.g. your headshot photo, the dataset you downloaded) that are necessary for re-executing your notebook from a clone of your repository. \n",
    "\n",
    "3. Go to your Github repository online to verify that your push is effective. Make sure that all files are properly updated in your repository.\n",
    "\n",
    "### Quercus\n",
    "\n",
    "4. Create a pdf of your notebook including the code cells (print this notebook to pdf), and upload the pdf to Quercus in the corresponding \"L1.0\" assignment.\n",
    "\n",
    "\n",
    "## Grading\n",
    "\n",
    "The following grading scheme will be used for this assignment.\n",
    "\n",
    "Note that marks will be deduced for the following reasons: notebook doesn't compile; files are missing; instructions are not followed."
   ]
  },
  {
   "cell_type": "markdown",
   "metadata": {},
   "source": [
    "| | | Marks |\n",
    "|--- |---       |---  \n",
    "| *Questions III.1-3* | All questions are appropriately answered     | 1 |\n",
    "| *Questions IV.1-5*  | All questions are correctly answered <br> (1pt per question) | 5 |\n",
    "| *Questrion IV.6*    | Research questions are clear and interesting <br> Explanations are clear and thoughtful | 9 |\n",
    "| | **Total**| **15** |"
   ]
  }
 ],
 "metadata": {
  "kernelspec": {
   "display_name": "Python 3",
   "language": "python",
   "name": "python3"
  },
  "language_info": {
   "codemirror_mode": {
    "name": "ipython",
    "version": 3
   },
   "file_extension": ".py",
   "mimetype": "text/x-python",
   "name": "python",
   "nbconvert_exporter": "python",
   "pygments_lexer": "ipython3",
   "version": "3.7.6"
  }
 },
 "nbformat": 4,
 "nbformat_minor": 2
}
